{
 "cells": [
  {
   "cell_type": "code",
   "execution_count": 8,
   "metadata": {},
   "outputs": [],
   "source": [
    "import os\n",
    "import numpy as np\n",
    "import cv2 as cv"
   ]
  },
  {
   "cell_type": "code",
   "execution_count": 4,
   "metadata": {},
   "outputs": [],
   "source": [
    "path_images = '../Letras/'\n",
    "images_names = sorted(os.listdir(path_images))"
   ]
  },
  {
   "cell_type": "code",
   "execution_count": 9,
   "metadata": {},
   "outputs": [],
   "source": [
    "a=cv.imread(\"../Letras/caracter_4_0.jpg\")\n"
   ]
  },
  {
   "cell_type": "code",
   "execution_count": 5,
   "metadata": {},
   "outputs": [
    {
     "name": "stdout",
     "output_type": "stream",
     "text": [
      "class:  Sample001  total samples:  50\n",
      "class:  Sample002  total samples:  49\n",
      "class:  Sample003  total samples:  48\n",
      "class:  Sample004  total samples:  22\n",
      "class:  Sample005  total samples:  26\n",
      "class:  Sample006  total samples:  17\n",
      "class:  Sample007  total samples:  20\n",
      "class:  Sample008  total samples:  13\n",
      "class:  Sample009  total samples:  10\n",
      "class:  Sample010  total samples:  37\n",
      "class:  Sample011  total samples:  360\n",
      "class:  Sample012  total samples:  64\n",
      "class:  Sample013  total samples:  124\n",
      "class:  Sample014  total samples:  137\n",
      "class:  Sample015  total samples:  268\n",
      "class:  Sample016  total samples:  57\n",
      "class:  Sample017  total samples:  77\n",
      "class:  Sample018  total samples:  110\n",
      "class:  Sample019  total samples:  238\n",
      "class:  Sample020  total samples:  25\n",
      "class:  Sample021  total samples:  42\n",
      "class:  Sample022  total samples:  119\n",
      "class:  Sample023  total samples:  104\n",
      "class:  Sample024  total samples:  193\n",
      "class:  Sample025  total samples:  200\n",
      "class:  Sample026  total samples:  102\n",
      "class:  Sample027  total samples:  6\n",
      "class:  Sample028  total samples:  227\n",
      "class:  Sample029  total samples:  198\n",
      "class:  Sample030  total samples:  201\n",
      "class:  Sample031  total samples:  74\n",
      "class:  Sample032  total samples:  44\n",
      "class:  Sample033  total samples:  45\n",
      "class:  Sample034  total samples:  6\n",
      "class:  Sample035  total samples:  40\n",
      "class:  Sample036  total samples:  5\n"
     ]
    }
   ],
   "source": [
    "path_classes = '../Img/BadImag/Bmp/'\n",
    "classes_names = sorted(os.listdir(path_classes))\n",
    "dic_imgs ={}\n",
    "\n",
    "for i, name_class in enumerate(classes_names):\n",
    "    dic_imgs[classes_names[i]]=np.array(os.listdir(path_classes + classes_names[i]))\n",
    "    print \"class: \", name_class, \" total samples: \", len(dic_imgs[classes_names[i]])"
   ]
  },
  {
   "cell_type": "code",
   "execution_count": 6,
   "metadata": {},
   "outputs": [],
   "source": [
    "for i in range(len(classes_names)):\n",
    "    for j in range(len(dic_imgs[classes_names[i]])):\n",
    "\n",
    "        path_image = path_classes+classes_names[i]+'/'+dic_imgs[classes_names[i]][j];\n",
    "        os.rename(path_image,\"ij.png\")"
   ]
  },
  {
   "cell_type": "code",
   "execution_count": null,
   "metadata": {},
   "outputs": [],
   "source": []
  }
 ],
 "metadata": {
  "kernelspec": {
   "display_name": "Python 2",
   "language": "python",
   "name": "python2"
  },
  "language_info": {
   "codemirror_mode": {
    "name": "ipython",
    "version": 2
   },
   "file_extension": ".py",
   "mimetype": "text/x-python",
   "name": "python",
   "nbconvert_exporter": "python",
   "pygments_lexer": "ipython2",
   "version": "2.7.15+"
  }
 },
 "nbformat": 4,
 "nbformat_minor": 2
}
