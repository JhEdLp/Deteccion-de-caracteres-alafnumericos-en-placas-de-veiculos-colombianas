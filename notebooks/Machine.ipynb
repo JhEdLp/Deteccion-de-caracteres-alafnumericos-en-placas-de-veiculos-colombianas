{
 "cells": [
  {
   "cell_type": "code",
   "execution_count": 1,
   "metadata": {},
   "outputs": [],
   "source": [
    "import tensorflow as tf\n",
    "from tensorflow import keras\n",
    "import os\n",
    "import sys\n",
    "import numpy as np\n",
    "import pandas as pd\n",
    "import matplotlib.pyplot as plt\n",
    "from scipy import misc\n",
    "import cv2 as cv"
   ]
  },
  {
   "cell_type": "code",
   "execution_count": 2,
   "metadata": {},
   "outputs": [
    {
     "name": "stdout",
     "output_type": "stream",
     "text": [
      "class:  Sample001  total samples:  144\n",
      "class:  Sample002  total samples:  128\n",
      "class:  Sample003  total samples:  108\n",
      "class:  Sample004  total samples:  80\n",
      "class:  Sample005  total samples:  68\n",
      "class:  Sample006  total samples:  81\n",
      "class:  Sample007  total samples:  78\n",
      "class:  Sample008  total samples:  83\n",
      "class:  Sample009  total samples:  42\n",
      "class:  Sample010  total samples:  71\n",
      "class:  Sample011  total samples:  669\n",
      "class:  Sample012  total samples:  146\n",
      "class:  Sample013  total samples:  319\n",
      "class:  Sample014  total samples:  317\n",
      "class:  Sample015  total samples:  679\n",
      "class:  Sample016  total samples:  129\n",
      "class:  Sample017  total samples:  207\n",
      "class:  Sample018  total samples:  259\n",
      "class:  Sample019  total samples:  60\n",
      "class:  Sample020  total samples:  100\n",
      "class:  Sample021  total samples:  125\n",
      "class:  Sample022  total samples:  291\n",
      "class:  Sample023  total samples:  229\n",
      "class:  Sample024  total samples:  474\n",
      "class:  Sample025  total samples:  501\n",
      "class:  Sample026  total samples:  215\n",
      "class:  Sample027  total samples:  59\n",
      "class:  Sample028  total samples:  476\n",
      "class:  Sample029  total samples:  502\n",
      "class:  Sample030  total samples:  376\n",
      "class:  Sample031  total samples:  152\n",
      "class:  Sample032  total samples:  109\n",
      "class:  Sample033  total samples:  112\n",
      "class:  Sample034  total samples:  75\n",
      "class:  Sample035  total samples:  103\n",
      "class:  Sample036  total samples:  66\n"
     ]
    }
   ],
   "source": [
    "path_classes = '../Img/'\n",
    "classes_names = sorted(os.listdir(path_classes))\n",
    "dic_imgs ={}\n",
    "\n",
    "for i, name_class in enumerate(classes_names):\n",
    "    dic_imgs[classes_names[i]]=np.array(os.listdir(path_classes + classes_names[i]))\n",
    "    print \"class: \", name_class, \" total samples: \", len(dic_imgs[classes_names[i]])"
   ]
  },
  {
   "cell_type": "code",
   "execution_count": 6,
   "metadata": {},
   "outputs": [],
   "source": [
    "X=[];\n",
    "Y=[];\n",
    "resize_value =100\n",
    "for i in range(len(classes_names)):\n",
    "    for j in range(len(dic_imgs[classes_names[i]])):\n",
    "\n",
    "        path_image = path_classes+classes_names[i]+'/'+dic_imgs[classes_names[i]][j];\n",
    "        img=cv.imread(path_image);\n",
    "        img=cv.cvtColor(img,cv.COLOR_BGR2GRAY)*1.;\n",
    "        img=cv.resize(img,(100,100));\n",
    "        flatt_img = img.reshape(resize_value*resize_value)\n",
    "        X.append(flatt_img)\n",
    "        Y.append(i)\n",
    "\n",
    "X = np.r_[X]        \n",
    "Y = np.r_[Y]"
   ]
  },
  {
   "cell_type": "code",
   "execution_count": 10,
   "metadata": {},
   "outputs": [
    {
     "name": "stdout",
     "output_type": "stream",
     "text": [
      "(7633, 10000)\n",
      "(7633,)\n"
     ]
    }
   ],
   "source": [
    "print X.shape\n",
    "print Y.shape"
   ]
  },
  {
   "cell_type": "code",
   "execution_count": 11,
   "metadata": {},
   "outputs": [
    {
     "name": "stdout",
     "output_type": "stream",
     "text": [
      "[14 13 27 ... 10  7 13]\n"
     ]
    }
   ],
   "source": [
    "from sklearn.model_selection import train_test_split\n",
    "test_size = 0.2\n",
    "X_train, X_test, y_train, y_test = train_test_split(X,Y,test_size=test_size)\n",
    "print y_test"
   ]
  },
  {
   "cell_type": "code",
   "execution_count": 13,
   "metadata": {},
   "outputs": [],
   "source": [
    "from sklearn.svm import SVC\n",
    "from sklearn.naive_bayes import GaussianNB\n",
    "from sklearn.ensemble import RandomForestClassifier\n",
    "from sklearn.metrics import confusion_matrix\n",
    "from sklearn.neighbors import KNeighborsClassifier\n",
    "\n",
    "GN_est = GaussianNB()\n",
    "RF_est = RandomForestClassifier(n_estimators=40)\n",
    "SV_est = SVC(kernel='rbf')\n",
    "KN_est = KNeighborsClassifier(n_neighbors=10)"
   ]
  },
  {
   "cell_type": "code",
   "execution_count": 17,
   "metadata": {},
   "outputs": [
    {
     "name": "stdout",
     "output_type": "stream",
     "text": [
      "0.5239030779305829\n"
     ]
    },
    {
     "data": {
      "image/png": "[encoded data removed]",
      "text/plain": [
       "<Figure size 432x288 with 2 Axes>"
      ]
     },
     "metadata": {
      "needs_background": "light"
     },
     "output_type": "display_data"
    }
   ],
   "source": [
    "KN_est.fit(X_train,y_train)\n",
    "KN_pr = KN_est.predict(X_test)\n",
    "print (KN_est.score(X_test,y_test))\n",
    "cm_test = confusion_matrix(y_test, KN_pr)\n",
    "\n",
    "plt.imshow(cm_test, interpolation=\"nearest\", cmap=plt.cm.Blues);\n",
    "plt.colorbar();"
   ]
  },
  {
   "cell_type": "code",
   "execution_count": 19,
   "metadata": {},
   "outputs": [
    {
     "name": "stdout",
     "output_type": "stream",
     "text": [
      "0.058284217419777344\n"
     ]
    },
    {
     "data": {
      "image/png": "[encoded data removed]",
      "text/plain": [
       "<Figure size 432x288 with 2 Axes>"
      ]
     },
     "metadata": {
      "needs_background": "light"
     },
     "output_type": "display_data"
    }
   ],
   "source": [
    "GN_est.fit(X_train,y_train)\n",
    "GN_pr = GN_est.predict(X_test)\n",
    "print (GN_est.score(X_test,y_test))\n",
    "cm_test = confusion_matrix(y_test, GN_pr)\n",
    "\n",
    "plt.imshow(cm_test, interpolation=\"nearest\", cmap=plt.cm.Blues);\n",
    "plt.colorbar();"
   ]
  },
  {
   "cell_type": "code",
   "execution_count": 20,
   "metadata": {},
   "outputs": [
    {
     "name": "stdout",
     "output_type": "stream",
     "text": [
      "0.6070726915520629\n"
     ]
    },
    {
     "data": {
      "image/png": "[encoded data removed]",
      "text/plain": [
       "<Figure size 432x288 with 2 Axes>"
      ]
     },
     "metadata": {
      "needs_background": "light"
     },
     "output_type": "display_data"
    }
   ],
   "source": [
    "RF_est.fit(X_train,y_train)\n",
    "RF_pr = RF_est.predict(X_test)\n",
    "print (RF_est.score(X_test,y_test))\n",
    "cm_test = confusion_matrix(y_test, RF_pr)\n",
    "\n",
    "plt.imshow(cm_test, interpolation=\"nearest\", cmap=plt.cm.Blues);\n",
    "plt.colorbar();"
   ]
  },
  {
   "cell_type": "code",
   "execution_count": 21,
   "metadata": {},
   "outputs": [
    {
     "name": "stderr",
     "output_type": "stream",
     "text": [
      "/home/jhon/.local/lib/python2.7/site-packages/sklearn/svm/base.py:196: FutureWarning: The default value of gamma will change from 'auto' to 'scale' in version 0.22 to account better for unscaled features. Set gamma explicitly to 'auto' or 'scale' to avoid this warning.\n",
      "  \"avoid this warning.\", FutureWarning)\n"
     ]
    },
    {
     "name": "stdout",
     "output_type": "stream",
     "text": [
      "0.1008513425016372\n"
     ]
    },
    {
     "data": {
      "image/png": "[encoded data removed]",
      "text/plain": [
       "<Figure size 432x288 with 2 Axes>"
      ]
     },
     "metadata": {
      "needs_background": "light"
     },
     "output_type": "display_data"
    }
   ],
   "source": [
    "SV_est.fit(X_train,y_train)\n",
    "SV_pr = SV_est.predict(X_test)\n",
    "print (SV_est.score(X_test,y_test))\n",
    "cm_test = confusion_matrix(y_test, SV_pr)\n",
    "\n",
    "plt.imshow(cm_test, interpolation=\"nearest\", cmap=plt.cm.Blues);\n",
    "plt.colorbar();"
   ]
  }
 ],
 "metadata": {
  "kernelspec": {
   "display_name": "Python 2",
   "language": "python",
   "name": "python2"
  },
  "language_info": {
   "codemirror_mode": {
    "name": "ipython",
    "version": 2
   },
   "file_extension": ".py",
   "mimetype": "text/x-python",
   "name": "python",
   "nbconvert_exporter": "python",
   "pygments_lexer": "ipython2",
   "version": "2.7.15+"
  }
 },
 "nbformat": 4,
 "nbformat_minor": 2
}
