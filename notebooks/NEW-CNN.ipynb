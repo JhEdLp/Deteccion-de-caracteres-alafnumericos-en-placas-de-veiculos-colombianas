{
 "cells": [
  {
   "cell_type": "code",
   "execution_count": 1,
   "metadata": {},
   "outputs": [],
   "source": [
    "import tensorflow as tf\n",
    "from tensorflow import keras\n",
    "import os\n",
    "import sys\n",
    "import numpy as np\n",
    "import pandas as pd\n",
    "import matplotlib.pyplot as plt\n",
    "from scipy import misc\n",
    "import cv2 as cv"
   ]
  },
  {
   "cell_type": "code",
   "execution_count": 24,
   "metadata": {},
   "outputs": [
    {
     "name": "stdout",
     "output_type": "stream",
     "text": [
      "class:  Sample001  total samples:  144\n",
      "class:  Sample002  total samples:  128\n",
      "class:  Sample003  total samples:  108\n",
      "class:  Sample004  total samples:  80\n",
      "class:  Sample005  total samples:  68\n",
      "class:  Sample006  total samples:  81\n",
      "class:  Sample007  total samples:  78\n",
      "class:  Sample008  total samples:  83\n",
      "class:  Sample009  total samples:  42\n",
      "class:  Sample010  total samples:  71\n",
      "class:  Sample011  total samples:  669\n",
      "class:  Sample012  total samples:  146\n",
      "class:  Sample013  total samples:  319\n",
      "class:  Sample014  total samples:  317\n",
      "class:  Sample015  total samples:  679\n",
      "class:  Sample016  total samples:  129\n",
      "class:  Sample017  total samples:  207\n",
      "class:  Sample018  total samples:  259\n",
      "class:  Sample019  total samples:  60\n",
      "class:  Sample020  total samples:  100\n",
      "class:  Sample021  total samples:  125\n",
      "class:  Sample022  total samples:  291\n",
      "class:  Sample023  total samples:  229\n",
      "class:  Sample024  total samples:  474\n",
      "class:  Sample025  total samples:  501\n",
      "class:  Sample026  total samples:  215\n",
      "class:  Sample027  total samples:  59\n",
      "class:  Sample028  total samples:  476\n",
      "class:  Sample029  total samples:  502\n",
      "class:  Sample030  total samples:  376\n",
      "class:  Sample031  total samples:  152\n",
      "class:  Sample032  total samples:  109\n",
      "class:  Sample033  total samples:  112\n",
      "class:  Sample034  total samples:  75\n",
      "class:  Sample035  total samples:  103\n",
      "class:  Sample036  total samples:  66\n"
     ]
    }
   ],
   "source": [
    "path_classes = '../Img/'\n",
    "classes_names = sorted(os.listdir(path_classes))\n",
    "dic_imgs ={}\n",
    "\n",
    "for i, name_class in enumerate(classes_names):\n",
    "    dic_imgs[classes_names[i]]=np.array(os.listdir(path_classes + classes_names[i]))\n",
    "    print \"class: \", name_class, \" total samples: \", len(dic_imgs[classes_names[i]])"
   ]
  },
  {
   "cell_type": "code",
   "execution_count": 25,
   "metadata": {},
   "outputs": [],
   "source": [
    "X=[];\n",
    "Y=[];\n",
    "for i in range(len(classes_names)):\n",
    "    for j in range(len(dic_imgs[classes_names[i]])):\n",
    "\n",
    "        path_image = path_classes+classes_names[i]+'/'+dic_imgs[classes_names[i]][j];\n",
    "        img=cv.imread(path_image);\n",
    "        img=cv.cvtColor(img,cv.COLOR_BGR2RGB);\n",
    "        img=cv.resize(img,(32,32));\n",
    "        X.append(img)\n",
    "        Y.append(i)\n",
    "\n",
    "X=np.asanyarray(X)\n",
    "Y=np.asanyarray(Y)"
   ]
  },
  {
   "cell_type": "code",
   "execution_count": 26,
   "metadata": {},
   "outputs": [
    {
     "name": "stdout",
     "output_type": "stream",
     "text": [
      "(6106, 32, 32, 3) (1527, 32, 32, 3) (6106,) (1527,)\n"
     ]
    }
   ],
   "source": [
    "from sklearn.model_selection import train_test_split\n",
    "test_size = 0.2\n",
    "X_train, X_test, Y_train, Y_test = train_test_split(X,Y,test_size=test_size)\n",
    "print X_train.shape,X_test.shape,Y_train.shape,Y_test.shape"
   ]
  },
  {
   "cell_type": "code",
   "execution_count": 27,
   "metadata": {},
   "outputs": [],
   "source": [
    "X_train = X_train.reshape([-1, 32, 32, 3])\n",
    "X_test = X_test.reshape([-1, 32, 32, 3])\n",
    "X_train = X_train.astype('float32')\n",
    "X_test = X_test.astype('float32')\n",
    "\n",
    "X_train /= 255\n",
    "X_test /= 255"
   ]
  },
  {
   "cell_type": "code",
   "execution_count": 69,
   "metadata": {},
   "outputs": [
    {
     "name": "stdout",
     "output_type": "stream",
     "text": [
      "Model: \"sequential_7\"\n",
      "_________________________________________________________________\n",
      "Layer (type)                 Output Shape              Param #   \n",
      "=================================================================\n",
      "conv2d_14 (Conv2D)           (None, 28, 28, 60)        4560      \n",
      "_________________________________________________________________\n",
      "max_pooling2d_14 (MaxPooling (None, 14, 14, 60)        0         \n",
      "_________________________________________________________________\n",
      "conv2d_15 (Conv2D)           (None, 12, 12, 30)        16230     \n",
      "_________________________________________________________________\n",
      "max_pooling2d_15 (MaxPooling (None, 6, 6, 30)          0         \n",
      "_________________________________________________________________\n",
      "dropout_7 (Dropout)          (None, 6, 6, 30)          0         \n",
      "_________________________________________________________________\n",
      "flatten_7 (Flatten)          (None, 1080)              0         \n",
      "_________________________________________________________________\n",
      "dense_45 (Dense)             (None, 1000)              1081000   \n",
      "_________________________________________________________________\n",
      "dense_46 (Dense)             (None, 800)               800800    \n",
      "_________________________________________________________________\n",
      "dense_47 (Dense)             (None, 500)               400500    \n",
      "_________________________________________________________________\n",
      "dense_48 (Dense)             (None, 250)               125250    \n",
      "_________________________________________________________________\n",
      "dense_49 (Dense)             (None, 128)               32128     \n",
      "_________________________________________________________________\n",
      "dense_50 (Dense)             (None, 50)                6450      \n",
      "_________________________________________________________________\n",
      "dense_51 (Dense)             (None, 36)                1836      \n",
      "=================================================================\n",
      "Total params: 2,468,754\n",
      "Trainable params: 2,468,754\n",
      "Non-trainable params: 0\n",
      "_________________________________________________________________\n"
     ]
    }
   ],
   "source": [
    "model=  keras.models.Sequential()\n",
    "model.add(keras.layers.Conv2D(60, (5, 5), input_shape=(32, 32,3), activation='relu'))\n",
    "model.add(keras.layers.MaxPooling2D(pool_size=(2, 2)))\n",
    "model.add(keras.layers.Conv2D(30, (3, 3), activation='relu'))\n",
    "model.add(keras.layers.MaxPooling2D(pool_size=(2, 2)))\n",
    "model.add(keras.layers.Dropout(0.2))\n",
    "model.add(keras.layers.Flatten())\n",
    "model.add(keras.layers.Dense(1000, activation='relu'))\n",
    "model.add(keras.layers.Dense(800, activation='relu'))\n",
    "model.add(keras.layers.Dense(500, activation='relu'))\n",
    "model.add(keras.layers.Dense(250, activation='relu'))\n",
    "model.add(keras.layers.Dense(128, activation='relu'))\n",
    "model.add(keras.layers.Dense(50, activation='relu'))\n",
    "model.add(keras.layers.Dense(36, activation='softmax'))\n",
    "\n",
    "model.summary();"
   ]
  },
  {
   "cell_type": "code",
   "execution_count": null,
   "metadata": {},
   "outputs": [
    {
     "name": "stdout",
     "output_type": "stream",
     "text": [
      "Train on 6106 samples, validate on 1527 samples\n",
      "Epoch 1/100\n",
      "6106/6106 [==============================] - 12s 2ms/sample - loss: 3.5469 - acc: 0.0789 - val_loss: 3.4901 - val_acc: 0.0982\n",
      "Epoch 2/100\n",
      "6106/6106 [==============================] - 10s 2ms/sample - loss: 3.4295 - acc: 0.0878 - val_loss: 3.3716 - val_acc: 0.0943\n",
      "Epoch 3/100\n",
      "6106/6106 [==============================] - 11s 2ms/sample - loss: 3.3357 - acc: 0.0940 - val_loss: 3.3191 - val_acc: 0.0989\n",
      "Epoch 4/100\n",
      "6106/6106 [==============================] - 10s 2ms/sample - loss: 3.3107 - acc: 0.0904 - val_loss: 3.3102 - val_acc: 0.0806\n",
      "Epoch 5/100\n",
      "6106/6106 [==============================] - 10s 2ms/sample - loss: 3.3072 - acc: 0.0915 - val_loss: 3.3010 - val_acc: 0.1028\n",
      "Epoch 6/100\n",
      "6106/6106 [==============================] - 10s 2ms/sample - loss: 3.3035 - acc: 0.0919 - val_loss: 3.2999 - val_acc: 0.1002\n",
      "Epoch 7/100\n",
      "6106/6106 [==============================] - 10s 2ms/sample - loss: 3.3002 - acc: 0.0911 - val_loss: 3.2952 - val_acc: 0.0969\n",
      "Epoch 8/100\n",
      "6106/6106 [==============================] - 9s 2ms/sample - loss: 3.2972 - acc: 0.0935 - val_loss: 3.2942 - val_acc: 0.0989\n",
      "Epoch 9/100\n",
      "6106/6106 [==============================] - 9s 2ms/sample - loss: 3.2921 - acc: 0.0909 - val_loss: 3.2900 - val_acc: 0.1225\n",
      "Epoch 10/100\n",
      "6106/6106 [==============================] - 10s 2ms/sample - loss: 3.2874 - acc: 0.0986 - val_loss: 3.2805 - val_acc: 0.0982\n",
      "Epoch 11/100\n",
      "6106/6106 [==============================] - 11s 2ms/sample - loss: 3.2844 - acc: 0.1010 - val_loss: 3.2711 - val_acc: 0.1094\n",
      "Epoch 12/100\n",
      "6106/6106 [==============================] - 11s 2ms/sample - loss: 3.2749 - acc: 0.0999 - val_loss: 3.2603 - val_acc: 0.1126\n",
      "Epoch 13/100\n",
      "6106/6106 [==============================] - 10s 2ms/sample - loss: 3.2632 - acc: 0.1061 - val_loss: 3.2412 - val_acc: 0.1251\n",
      "Epoch 14/100\n",
      "6106/6106 [==============================] - 12s 2ms/sample - loss: 3.2347 - acc: 0.1148 - val_loss: 3.1864 - val_acc: 0.1375\n",
      "Epoch 15/100\n",
      "6106/6106 [==============================] - 10s 2ms/sample - loss: 3.1750 - acc: 0.1390 - val_loss: 3.0889 - val_acc: 0.1919\n",
      "Epoch 16/100\n",
      "6106/6106 [==============================] - 10s 2ms/sample - loss: 3.0581 - acc: 0.2018 - val_loss: 2.9093 - val_acc: 0.2554\n",
      "Epoch 17/100\n",
      "1408/6106 [=====>........................] - ETA: 6s - loss: 2.9299 - acc: 0.2528"
     ]
    }
   ],
   "source": [
    "opt = keras.optimizers.SGD(lr=0.005, momentum=0.7)\n",
    "model.compile(optimizer=opt, loss='sparse_categorical_crossentropy',metrics=['accuracy'])\n",
    "history = model.fit(X_train, Y_train, epochs=100, batch_size=64,\n",
    "                    validation_data=(X_test, Y_test))"
   ]
  },
  {
   "cell_type": "code",
   "execution_count": 66,
   "metadata": {},
   "outputs": [
    {
     "data": {
      "text/plain": [
       "<matplotlib.legend.Legend at 0x7f5c6b29dfd0>"
      ]
     },
     "execution_count": 66,
     "metadata": {},
     "output_type": "execute_result"
    },
    {
     "data": {
      "image/png": "[encoded data removed]",
      "text/plain": [
       "<Figure size 432x288 with 1 Axes>"
      ]
     },
     "metadata": {
      "needs_background": "light"
     },
     "output_type": "display_data"
    }
   ],
   "source": [
    "plt.plot(history.history['acc'], label='Train Accuracy')\n",
    "plt.plot(history.history['val_acc'], label='Validation Accuracy')\n",
    "plt.xlabel('Epochs')\n",
    "plt.ylabel('Accuracy')\n",
    "plt.legend()"
   ]
  },
  {
   "cell_type": "code",
   "execution_count": 31,
   "metadata": {},
   "outputs": [],
   "source": [
    "def indentificar(features):\n",
    "    if np.argmax(features)==0:\n",
    "        return 0\n",
    "    if np.argmax(features)==1:\n",
    "        return 1\n",
    "    if np.argmax(features)==2:\n",
    "        return 2\n",
    "    if np.argmax(features)==3:\n",
    "        return 3\n",
    "    if np.argmax(features)==4:\n",
    "        return 4\n",
    "    if np.argmax(features)==5:\n",
    "        return 5\n",
    "    if np.argmax(features)==6:\n",
    "        return 6\n",
    "    if np.argmax(features)==7:\n",
    "        return 7\n",
    "    if np.argmax(features)==8:\n",
    "        return 8\n",
    "    if np.argmax(features)==9:\n",
    "        return 9\n",
    "    if np.argmax(features)==10:\n",
    "        return 'A'\n",
    "    if np.argmax(features)==11:\n",
    "        return 'B'\n",
    "    if np.argmax(features)==12:\n",
    "        return 'C'\n",
    "    if np.argmax(features)==13:\n",
    "        return 'D'\n",
    "    if np.argmax(features)==14:\n",
    "        return 'E'\n",
    "    if np.argmax(features)==15:\n",
    "        return 'F'\n",
    "    if np.argmax(features)==16:\n",
    "        return 'G'\n",
    "    if np.argmax(features)==17:\n",
    "        return 'H'\n",
    "    if np.argmax(features)==18:\n",
    "        return 'I'\n",
    "    if np.argmax(features)==19:\n",
    "        return 'J'\n",
    "    if np.argmax(features)==20:\n",
    "        return 'K'\n",
    "    if np.argmax(features)==21:\n",
    "        return 'L'\n",
    "    if np.argmax(features)==22:\n",
    "        return 'M'\n",
    "    if np.argmax(features)==23:\n",
    "        return 'N'\n",
    "    if np.argmax(features)==24:\n",
    "        return 'O'\n",
    "    if np.argmax(features)==25:\n",
    "        return 'P'\n",
    "    if np.argmax(features)==26:\n",
    "        return 'Q'\n",
    "    if np.argmax(features)==27:\n",
    "        return 'R'\n",
    "    if np.argmax(features)==28:\n",
    "        return 'S'\n",
    "    if np.argmax(features)==29:\n",
    "        return 'T'\n",
    "    if np.argmax(features)==30:\n",
    "        return 'U'\n",
    "    if np.argmax(features)==31:\n",
    "        return 'V'\n",
    "    if np.argmax(features)==32:\n",
    "        return 'W'\n",
    "    if np.argmax(features)==33:\n",
    "        return 'X'\n",
    "    if np.argmax(features)==34:\n",
    "        return 'Y'\n",
    "    if np.argmax(features)==35:\n",
    "        return 'Z'"
   ]
  },
  {
   "cell_type": "code",
   "execution_count": 59,
   "metadata": {},
   "outputs": [
    {
     "name": "stdout",
     "output_type": "stream",
     "text": [
      "Model: \"sequential_1\"\n",
      "_________________________________________________________________\n",
      "Layer (type)                 Output Shape              Param #   \n",
      "=================================================================\n",
      "conv2d_2 (Conv2D)            (None, 28, 28, 60)        4560      \n",
      "_________________________________________________________________\n",
      "max_pooling2d_2 (MaxPooling2 (None, 14, 14, 60)        0         \n",
      "_________________________________________________________________\n",
      "conv2d_3 (Conv2D)            (None, 12, 12, 30)        16230     \n",
      "_________________________________________________________________\n",
      "max_pooling2d_3 (MaxPooling2 (None, 6, 6, 30)          0         \n",
      "_________________________________________________________________\n",
      "dropout_1 (Dropout)          (None, 6, 6, 30)          0         \n",
      "_________________________________________________________________\n",
      "flatten_1 (Flatten)          (None, 1080)              0         \n",
      "_________________________________________________________________\n",
      "dense_6 (Dense)              (None, 800)               864800    \n",
      "_________________________________________________________________\n",
      "dense_7 (Dense)              (None, 500)               400500    \n",
      "_________________________________________________________________\n",
      "dense_8 (Dense)              (None, 250)               125250    \n",
      "_________________________________________________________________\n",
      "dense_9 (Dense)              (None, 128)               32128     \n",
      "_________________________________________________________________\n",
      "dense_10 (Dense)             (None, 50)                6450      \n",
      "_________________________________________________________________\n",
      "dense_11 (Dense)             (None, 36)                1836      \n",
      "=================================================================\n",
      "Total params: 1,451,754\n",
      "Trainable params: 1,451,754\n",
      "Non-trainable params: 0\n",
      "_________________________________________________________________\n"
     ]
    }
   ],
   "source": [
    "from tensorflow.keras.models import load_model\n",
    "model2=load_model('my_new_model_32-sirve.h5')\n",
    "model2.summary()"
   ]
  },
  {
   "cell_type": "code",
   "execution_count": 68,
   "metadata": {},
   "outputs": [
    {
     "name": "stdout",
     "output_type": "stream",
     "text": [
      "B\n"
     ]
    },
    {
     "data": {
      "image/png": "[encoded data removed]",
      "text/plain": [
       "<Figure size 432x288 with 1 Axes>"
      ]
     },
     "metadata": {
      "needs_background": "light"
     },
     "output_type": "display_data"
    }
   ],
   "source": [
    "ima=cv.imread('../Presentación/NUMERO2.jpg')\n",
    "ima=cv.cvtColor(ima,cv.COLOR_BGR2RGB)\n",
    "plt.imshow(ima)\n",
    "ima=cv.resize(ima,(32,32))\n",
    "ima = ima.reshape([-1, 32, 32, 3])\n",
    "ima = ima.astype('float32')\n",
    "ima /= 255\n",
    "\n",
    "features=model.predict(ima)\n",
    "print indentificar(features)"
   ]
  },
  {
   "cell_type": "code",
   "execution_count": 41,
   "metadata": {},
   "outputs": [],
   "source": [
    "model.save('my_new_model_32-1-sirve.h5')"
   ]
  },
  {
   "cell_type": "code",
   "execution_count": 50,
   "metadata": {},
   "outputs": [],
   "source": [
    "model_conv = tf.keras.models.Model(inputs=model.input,outputs=model.get_layer('conv2d_6').output)"
   ]
  },
  {
   "cell_type": "code",
   "execution_count": 51,
   "metadata": {},
   "outputs": [
    {
     "data": {
      "text/plain": [
       "(1, 28, 28, 60)"
      ]
     },
     "execution_count": 51,
     "metadata": {},
     "output_type": "execute_result"
    }
   ],
   "source": [
    "features_conv1 = model_conv.predict(ima)\n",
    "features_conv1.shape"
   ]
  },
  {
   "cell_type": "code",
   "execution_count": 56,
   "metadata": {},
   "outputs": [
    {
     "data": {
      "image/png": "[encoded data removed]",
      "text/plain": [
       "<Figure size 1440x576 with 19 Axes>"
      ]
     },
     "metadata": {},
     "output_type": "display_data"
    }
   ],
   "source": [
    "plt.figure(figsize=(20,8))\n",
    "for i in range(1,20,1):  \n",
    "  \n",
    "  src=features_conv1[0,:,:,i]\n",
    "  #src=cv.resize(src,(90,90), interpolation = cv.INTER_CUBIC)\n",
    "  dst = cv.cornerHarris(src,2,3,0.069)\n",
    "  plt.subplot(4,5,i+1)\n",
    "  plt.xticks([])\n",
    "  plt.yticks([])\n",
    "  plt.grid(False)\n",
    "  plt.imshow(dst, cmap='viridis')\n",
    "plt.subplot(4,5,16)\n",
    "plt.xticks([])\n",
    "plt.yticks([])\n",
    "plt.grid(False)\n"
   ]
  },
  {
   "cell_type": "code",
   "execution_count": null,
   "metadata": {},
   "outputs": [],
   "source": []
  }
 ],
 "metadata": {
  "kernelspec": {
   "display_name": "Python 2",
   "language": "python",
   "name": "python2"
  },
  "language_info": {
   "codemirror_mode": {
    "name": "ipython",
    "version": 2
   },
   "file_extension": ".py",
   "mimetype": "text/x-python",
   "name": "python",
   "nbconvert_exporter": "python",
   "pygments_lexer": "ipython2",
   "version": "2.7.15+"
  }
 },
 "nbformat": 4,
 "nbformat_minor": 2
}
