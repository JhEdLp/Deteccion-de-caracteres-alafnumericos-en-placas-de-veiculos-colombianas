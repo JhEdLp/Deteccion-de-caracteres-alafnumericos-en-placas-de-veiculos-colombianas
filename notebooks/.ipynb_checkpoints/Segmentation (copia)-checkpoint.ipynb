{
 "cells": [
  {
   "cell_type": "code",
   "execution_count": 1,
   "metadata": {},
   "outputs": [],
   "source": [
    "import cv2 as cv\n",
    "import numpy as np\n",
    "import math as m\n",
    "from matplotlib import pyplot as plt"
   ]
  },
  {
   "cell_type": "code",
   "execution_count": 6,
   "metadata": {},
   "outputs": [],
   "source": [
    "img=cv.imread('../Imágenes/');"
   ]
  },
  {
   "cell_type": "code",
   "execution_count": 4,
   "metadata": {},
   "outputs": [
    {
     "ename": "TypeError",
     "evalue": "Image data cannot be converted to float",
     "output_type": "error",
     "traceback": [
      "\u001b[0;31m---------------------------------------------------------------------------\u001b[0m",
      "\u001b[0;31mTypeError\u001b[0m                                 Traceback (most recent call last)",
      "\u001b[0;32m<ipython-input-4-23af6c37b3d0>\u001b[0m in \u001b[0;36m<module>\u001b[0;34m()\u001b[0m\n\u001b[0;32m----> 1\u001b[0;31m \u001b[0mplt\u001b[0m\u001b[0;34m.\u001b[0m\u001b[0mimshow\u001b[0m\u001b[0;34m(\u001b[0m\u001b[0mimg\u001b[0m\u001b[0;34m)\u001b[0m\u001b[0;34m\u001b[0m\u001b[0;34m\u001b[0m\u001b[0m\n\u001b[0m",
      "\u001b[0;32m/home/jhon/.local/lib/python2.7/site-packages/matplotlib/pyplot.pyc\u001b[0m in \u001b[0;36mimshow\u001b[0;34m(X, cmap, norm, aspect, interpolation, alpha, vmin, vmax, origin, extent, shape, filternorm, filterrad, imlim, resample, url, hold, data, **kwargs)\u001b[0m\n\u001b[1;32m   3208\u001b[0m                         \u001b[0mfilternorm\u001b[0m\u001b[0;34m=\u001b[0m\u001b[0mfilternorm\u001b[0m\u001b[0;34m,\u001b[0m \u001b[0mfilterrad\u001b[0m\u001b[0;34m=\u001b[0m\u001b[0mfilterrad\u001b[0m\u001b[0;34m,\u001b[0m\u001b[0;34m\u001b[0m\u001b[0;34m\u001b[0m\u001b[0m\n\u001b[1;32m   3209\u001b[0m                         \u001b[0mimlim\u001b[0m\u001b[0;34m=\u001b[0m\u001b[0mimlim\u001b[0m\u001b[0;34m,\u001b[0m \u001b[0mresample\u001b[0m\u001b[0;34m=\u001b[0m\u001b[0mresample\u001b[0m\u001b[0;34m,\u001b[0m \u001b[0murl\u001b[0m\u001b[0;34m=\u001b[0m\u001b[0murl\u001b[0m\u001b[0;34m,\u001b[0m \u001b[0mdata\u001b[0m\u001b[0;34m=\u001b[0m\u001b[0mdata\u001b[0m\u001b[0;34m,\u001b[0m\u001b[0;34m\u001b[0m\u001b[0;34m\u001b[0m\u001b[0m\n\u001b[0;32m-> 3210\u001b[0;31m                         **kwargs)\n\u001b[0m\u001b[1;32m   3211\u001b[0m     \u001b[0;32mfinally\u001b[0m\u001b[0;34m:\u001b[0m\u001b[0;34m\u001b[0m\u001b[0;34m\u001b[0m\u001b[0m\n\u001b[1;32m   3212\u001b[0m         \u001b[0max\u001b[0m\u001b[0;34m.\u001b[0m\u001b[0m_hold\u001b[0m \u001b[0;34m=\u001b[0m \u001b[0mwashold\u001b[0m\u001b[0;34m\u001b[0m\u001b[0;34m\u001b[0m\u001b[0m\n",
      "\u001b[0;32m/home/jhon/.local/lib/python2.7/site-packages/matplotlib/__init__.pyc\u001b[0m in \u001b[0;36minner\u001b[0;34m(ax, *args, **kwargs)\u001b[0m\n\u001b[1;32m   1865\u001b[0m                         \u001b[0;34m\"the Matplotlib list!)\"\u001b[0m \u001b[0;34m%\u001b[0m \u001b[0;34m(\u001b[0m\u001b[0mlabel_namer\u001b[0m\u001b[0;34m,\u001b[0m \u001b[0mfunc\u001b[0m\u001b[0;34m.\u001b[0m\u001b[0m__name__\u001b[0m\u001b[0;34m)\u001b[0m\u001b[0;34m,\u001b[0m\u001b[0;34m\u001b[0m\u001b[0;34m\u001b[0m\u001b[0m\n\u001b[1;32m   1866\u001b[0m                         RuntimeWarning, stacklevel=2)\n\u001b[0;32m-> 1867\u001b[0;31m             \u001b[0;32mreturn\u001b[0m \u001b[0mfunc\u001b[0m\u001b[0;34m(\u001b[0m\u001b[0max\u001b[0m\u001b[0;34m,\u001b[0m \u001b[0;34m*\u001b[0m\u001b[0margs\u001b[0m\u001b[0;34m,\u001b[0m \u001b[0;34m**\u001b[0m\u001b[0mkwargs\u001b[0m\u001b[0;34m)\u001b[0m\u001b[0;34m\u001b[0m\u001b[0;34m\u001b[0m\u001b[0m\n\u001b[0m\u001b[1;32m   1868\u001b[0m \u001b[0;34m\u001b[0m\u001b[0m\n\u001b[1;32m   1869\u001b[0m         inner.__doc__ = _add_data_doc(inner.__doc__,\n",
      "\u001b[0;32m/home/jhon/.local/lib/python2.7/site-packages/matplotlib/axes/_axes.pyc\u001b[0m in \u001b[0;36mimshow\u001b[0;34m(self, X, cmap, norm, aspect, interpolation, alpha, vmin, vmax, origin, extent, shape, filternorm, filterrad, imlim, resample, url, **kwargs)\u001b[0m\n\u001b[1;32m   5499\u001b[0m                               resample=resample, **kwargs)\n\u001b[1;32m   5500\u001b[0m \u001b[0;34m\u001b[0m\u001b[0m\n\u001b[0;32m-> 5501\u001b[0;31m         \u001b[0mim\u001b[0m\u001b[0;34m.\u001b[0m\u001b[0mset_data\u001b[0m\u001b[0;34m(\u001b[0m\u001b[0mX\u001b[0m\u001b[0;34m)\u001b[0m\u001b[0;34m\u001b[0m\u001b[0;34m\u001b[0m\u001b[0m\n\u001b[0m\u001b[1;32m   5502\u001b[0m         \u001b[0mim\u001b[0m\u001b[0;34m.\u001b[0m\u001b[0mset_alpha\u001b[0m\u001b[0;34m(\u001b[0m\u001b[0malpha\u001b[0m\u001b[0;34m)\u001b[0m\u001b[0;34m\u001b[0m\u001b[0;34m\u001b[0m\u001b[0m\n\u001b[1;32m   5503\u001b[0m         \u001b[0;32mif\u001b[0m \u001b[0mim\u001b[0m\u001b[0;34m.\u001b[0m\u001b[0mget_clip_path\u001b[0m\u001b[0;34m(\u001b[0m\u001b[0;34m)\u001b[0m \u001b[0;32mis\u001b[0m \u001b[0mNone\u001b[0m\u001b[0;34m:\u001b[0m\u001b[0;34m\u001b[0m\u001b[0;34m\u001b[0m\u001b[0m\n",
      "\u001b[0;32m/home/jhon/.local/lib/python2.7/site-packages/matplotlib/image.pyc\u001b[0m in \u001b[0;36mset_data\u001b[0;34m(self, A)\u001b[0m\n\u001b[1;32m    640\u001b[0m         if (self._A.dtype != np.uint8 and\n\u001b[1;32m    641\u001b[0m                 not np.can_cast(self._A.dtype, float, \"same_kind\")):\n\u001b[0;32m--> 642\u001b[0;31m             \u001b[0;32mraise\u001b[0m \u001b[0mTypeError\u001b[0m\u001b[0;34m(\u001b[0m\u001b[0;34m\"Image data cannot be converted to float\"\u001b[0m\u001b[0;34m)\u001b[0m\u001b[0;34m\u001b[0m\u001b[0;34m\u001b[0m\u001b[0m\n\u001b[0m\u001b[1;32m    643\u001b[0m \u001b[0;34m\u001b[0m\u001b[0m\n\u001b[1;32m    644\u001b[0m         if not (self._A.ndim == 2\n",
      "\u001b[0;31mTypeError\u001b[0m: Image data cannot be converted to float"
     ]
    },
    {
     "data": {
      "image/png": "[encoded data removed]",
      "text/plain": [
       "<Figure size 432x288 with 1 Axes>"
      ]
     },
     "metadata": {
      "needs_background": "light"
     },
     "output_type": "display_data"
    }
   ],
   "source": [
    "plt.imshow(img)"
   ]
  },
  {
   "cell_type": "code",
   "execution_count": 4,
   "metadata": {},
   "outputs": [],
   "source": [
    "rgB=img[:,:,0];\n",
    "rGb=img[:,:,1];\n",
    "Rgb=img[:,:,2];"
   ]
  },
  {
   "cell_type": "code",
   "execution_count": 5,
   "metadata": {},
   "outputs": [
    {
     "data": {
      "text/plain": [
       "(225, 569)"
      ]
     },
     "execution_count": 5,
     "metadata": {},
     "output_type": "execute_result"
    }
   ],
   "source": [
    "s=np.absolute(rGb-Rgb)\n",
    "#s=cv.cvtColor(img, cv.COLOR_BGR2GRAY)\n",
    "s.shape"
   ]
  },
  {
   "cell_type": "code",
   "execution_count": 6,
   "metadata": {},
   "outputs": [],
   "source": [
    "#Definición de combinación RGB para trabajar\n",
    "#I=cv.absdiff(rGb,rgB);\n",
    "I=s;\n",
    "II=I;\n",
    "#cv.imshow('',II)\n",
    "#cv.waitKey(0);\n",
    "\n",
    "#Binarización inicial de la imagen\n",
    "[fil,col]=I.shape\n",
    "for i in range(0,fil):\n",
    "    for j in range(0,col):\n",
    "        if I[i,j]<80:\n",
    "            I[i,j]=0;\n",
    "            \n",
    "for i in range(0,fil):\n",
    "    for j in range(0,col):\n",
    "        if I[i,j]>0:\n",
    "            I[i,j]=1;"
   ]
  },
  {
   "cell_type": "code",
   "execution_count": 7,
   "metadata": {},
   "outputs": [
    {
     "data": {
      "text/plain": [
       "(225, 569)"
      ]
     },
     "execution_count": 7,
     "metadata": {},
     "output_type": "execute_result"
    }
   ],
   "source": [
    "I.shape"
   ]
  },
  {
   "cell_type": "code",
   "execution_count": 8,
   "metadata": {},
   "outputs": [],
   "source": [
    "#Transformaciones morfologicas\n",
    "se=np.ones((50,50),np.uint8);\n",
    "se2=np.ones((10,10),np.uint8);\n",
    "closing=cv.morphologyEx(I,cv.MORPH_CLOSE,se)\n",
    "dilataion=cv.dilate(closing,se2,1)\n",
    "\n",
    "#Encontrar contornos \n",
    "S,contours,hierarchy=cv.findContours(dilataion,cv.RETR_TREE,cv.CHAIN_APPROX_SIMPLE);\n",
    "cnt=contours[:];\n",
    "num=len(cnt);\n",
    "box=np.zeros((num,4));\n",
    "\n",
    "for j in range(num):\n",
    "    box[j,:]=cv.boundingRect(cnt[j]);\n",
    "\n",
    "L=np.zeros((num,4));\n",
    "Max=[0,0];\n",
    "\n",
    "for j in range(0,num):\n",
    "    L[j,:]=box[j];\n",
    "    if L[j,2]>Max[0]:\n",
    "        Max=[j,L[j,2]];\n",
    "\n",
    "BOX=box[Max[0],:];\n",
    "#Mascara\n",
    "b=img[int(BOX[1]):int(BOX[1]+BOX[2]),int(BOX[0]):int(BOX[0]+BOX[2]),:];\n",
    "directorio2=\"../blanks/blank (%d).jpg\" %(1);\n",
    "cv.imwrite(directorio2,b);"
   ]
  },
  {
   "cell_type": "code",
   "execution_count": 9,
   "metadata": {},
   "outputs": [],
   "source": [
    "#Segmentación\n",
    "directorio3=\"../blanks/blank (%d).jpg\" %(1);\n",
    "A=cv.imread(directorio3);\n",
    "[fil,col,cap]=A.shape\n",
    "rgB=A[:,:,0];\n",
    "rGb=A[:,:,1];\n",
    "Rgb=A[:,:,2];\n",
    "#Nomrmalización\n",
    "R=Rgb/255.0;\n",
    "G=rGb/255.0;\n",
    "B=rgB/255.0;\n",
    "#construcción de espacio k de color\n",
    "K=np.zeros((fil,col));\n",
    "for i in range(0,fil):\n",
    "    for j in range(0,col):        \n",
    "        MAX=max(R[i,j],G[i,j],B[i,j]);\n",
    "        K[i,j]=1-MAX;\n",
    "\n",
    "cv.imwrite(\"./prueba.bmp\",K);\n",
    "k=cv.imread(\"./prueba.bmp\");\n",
    "BW1=cv.Laplacian(k,cv.CV_8UC1);\n",
    "Image=BW1[:,:,0]+BW1[:,:,1]+BW1[:,:,2]"
   ]
  },
  {
   "cell_type": "code",
   "execution_count": 10,
   "metadata": {},
   "outputs": [],
   "source": [
    "#Se calcula boundingRect para encontrar los caracteres de interes\n",
    "ret,thresh=cv.threshold(Image,0,255,0);\n",
    "S,contours,hierarchy=cv.findContours(thresh,cv.RETR_TREE,cv.CHAIN_APPROX_SIMPLE);\n",
    "cnt=contours[:];\n",
    "num=len(cnt);\n",
    "box=np.zeros((num,4));\n",
    "for j in range(0,num):\n",
    "    box[j,:]=cv.boundingRect(cnt[j]);\n",
    "    \n",
    "Box=np.zeros((20,4));\n",
    "[L,A]=thresh.shape;\n",
    "q=0;\n",
    "for j in range(0,num):\n",
    "    p=box[j,:]\n",
    "    if p[3]>=0.4*L and p[3]<=0.7*L and p[2]>=0.08*A and p[2]<=0.17*A:\n",
    "        Box[q]=p;\n",
    "        q=q+1;\n",
    "\n",
    "BOX=np.zeros((6,4));\n",
    "num=len(Box)\n",
    "#Se procee a encntrar dobles\n",
    "q=0;\n",
    "for j in range(0,num):\n",
    "    if j%2==0 and j<11:\n",
    "        BOX[q]=Box[j];\n",
    "        q=q+1;"
   ]
  },
  {
   "cell_type": "code",
   "execution_count": 11,
   "metadata": {},
   "outputs": [],
   "source": [
    "#calculo de las letras y números\n",
    "BOX=BOX.astype(int)\n",
    "LETRA3=img[BOX[0,1]:BOX[0,1]+BOX[0,3],BOX[0,0]:BOX[0,0]+BOX[0,2]];\n",
    "LETRA1=img[BOX[1,1]:BOX[1,1]+BOX[1,3],BOX[1,0]:BOX[1,0]+BOX[1,2]];\n",
    "NUM1=img[BOX[2,1]:BOX[2,1]+BOX[2,3],BOX[2,0]:BOX[2,0]+BOX[2,2]];\n",
    "NUM2=img[BOX[3,1]:BOX[3,1]+BOX[3,3],BOX[3,0]:BOX[3,0]+BOX[3,2]];\n",
    "LETRA2=img[BOX[4,1]:BOX[4,1]+BOX[4,3],BOX[4,0]:BOX[4,0]+BOX[4,2]];\n",
    "NUM3=img[BOX[5,1]:BOX[5,1]+BOX[5,3],BOX[5,0]:BOX[5,0]+BOX[5,2]];"
   ]
  },
  {
   "cell_type": "code",
   "execution_count": 12,
   "metadata": {},
   "outputs": [
    {
     "data": {
      "text/plain": [
       "array([[472,  40,  86, 130],\n",
       "       [393,  40,  83, 130],\n",
       "       [311,  39,  79, 130],\n",
       "       [193,  39,  77, 133],\n",
       "       [ 23,  39,  71, 137],\n",
       "       [105,  39,  79, 135]])"
      ]
     },
     "execution_count": 12,
     "metadata": {},
     "output_type": "execute_result"
    }
   ],
   "source": [
    "BOX"
   ]
  },
  {
   "cell_type": "code",
   "execution_count": 13,
   "metadata": {},
   "outputs": [
    {
     "data": {
      "image/png": "[encoded data removed]",
      "text/plain": [
       "<Figure size 432x288 with 6 Axes>"
      ]
     },
     "metadata": {
      "needs_background": "light"
     },
     "output_type": "display_data"
    }
   ],
   "source": [
    "plt.subplot(161),plt.imshow(LETRA1*255);\n",
    "plt.subplot(162),plt.imshow(LETRA2*255);\n",
    "plt.subplot(163),plt.imshow(LETRA3*255);\n",
    "plt.subplot(164),plt.imshow(NUM1*255);\n",
    "plt.subplot(165),plt.imshow(NUM2*255);\n",
    "plt.subplot(166),plt.imshow(NUM3*255);"
   ]
  },
  {
   "cell_type": "code",
   "execution_count": 14,
   "metadata": {},
   "outputs": [],
   "source": [
    "piso=m.floor(fil-0.3*fil);\n",
    "piso=int(piso)\n",
    "test=BW1[0:piso,:];\n",
    "[fil,col,cap]=test.shape;\n",
    "techo=m.floor(0.2*fil);\n",
    "lado=m.floor(0.45*col);\n",
    "techo=int(techo);\n",
    "lado=int(lado)\n",
    "test2=test[techo:fil,lado:col-lado];\n",
    "mitad=int(m.floor(0.5*col));\n",
    "numeros=test2[:,mitad:];\n",
    "[fil,col,cap]=numeros.shape;\n",
    "uno=int(0.33*col);\n",
    "dos=int(0.67*col);\n",
    "num1=numeros[:,0:uno];\n"
   ]
  },
  {
   "cell_type": "code",
   "execution_count": null,
   "metadata": {},
   "outputs": [],
   "source": []
  }
 ],
 "metadata": {
  "kernelspec": {
   "display_name": "Python 2",
   "language": "python",
   "name": "python2"
  },
  "language_info": {
   "codemirror_mode": {
    "name": "ipython",
    "version": 2
   },
   "file_extension": ".py",
   "mimetype": "text/x-python",
   "name": "python",
   "nbconvert_exporter": "python",
   "pygments_lexer": "ipython2",
   "version": "2.7.15+"
  }
 },
 "nbformat": 4,
 "nbformat_minor": 2
}
